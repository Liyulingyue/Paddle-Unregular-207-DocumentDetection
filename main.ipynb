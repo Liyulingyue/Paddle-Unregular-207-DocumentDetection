{
 "cells": [
  {
   "cell_type": "markdown",
   "id": "ab8fd1ae-da65-4828-a84b-459cac53d6e8",
   "metadata": {},
   "source": [
    "# 百度网盘AI大赛-图像处理挑战赛：文档检测优化赛12名方案\n",
    "\n",
    "## 比赛介绍\n",
    "生活中人们使用手机进行文档扫描逐渐成为一件普遍的事情，为了提高人们的使用体验，我们期望通过算法技术去除杂乱的拍摄背景并精准框取文档边缘，选手需要通过深度学习技术训练模型，对给定的真实场景下采集得到的带有拍摄背景的文件图片进行边缘智能识别，并最终输出处理后的扫描结果图片。\n",
    "\n",
    "## 任务分析\n",
    "本次任务可以同时看作回归问题和分割问题。\n",
    "\n",
    "- 回归任务：设计方案回归文档四个拐角点的坐标\n",
    "- 分割任务：设计方案对图片中文档进行分割\n",
    "\n",
    "## 技术分析\n",
    "\n",
    "- 模型选择\n",
    "    0. [基线](https://aistudio.baidu.com/aistudio/projectdetail/3861946)使用了回归模型，但是经过测试，Unet可以显著优于Resnet+Linear的基线模型。对比基线模型，分割模型大约能够提高5个百分点。因此，本项目使用分割模型处理问题。\n",
    "    1. 对于Unet/Unet++/Unet3/OCRNet等而言，其训练精度没有产生质变。本项目使用效果最好的OCRNet，但不否认Unet可能会在随机作用下产生更好的结果。\n",
    "\n",
    "- 数据处理\n",
    "\n",
    "    0. 由于本次数据中的所有图片均为512*512，因此不需要对图片进行Resize，也不需要担心Resize导致的图片失真\n",
    "    1. 除了Resize之外，还有归一化、明暗对比度、裁剪、旋转四种常用数据处理方案。其中，本模型中大部分拐角坐标，或者分割结果，均保持内部为分割文档，外围是背景内容。如果使用分割进行数据增强，则会训练模型学习到一些完全由文档部分组成的信息。这对拟合是不利的，训练结果同样应证了这一情况。\n",
    "    \n",
    "- 损失选择\n",
    "    0. 讨论分割任务常用的两种损失，CrossEntropy和DiceLoss，使用任意损失均可以获得高于回归模型5%的分数。但是两者相比，DiceLoss能够在相同模型的基础下比CrossEntropy提升1-2个百分点成绩。\n",
    "\n",
    "- 其他内容\n",
    "\n",
    "    0. 参考.yaml配置信息\n",
    "\n",
    "- Checkpoint\n",
    "\n",
    "    0. 提交使用的模型为OCRnet，模型参数保存在submit文件夹中，请勿覆盖。\n",
    "\n",
    "# 代码部分\n",
    "\n",
    "## 拉取数据/包"
   ]
  },
  {
   "cell_type": "code",
   "execution_count": null,
   "id": "690a101b-c303-46b9-a5f1-f7eaf687fa4f",
   "metadata": {
    "scrolled": true,
    "tags": []
   },
   "outputs": [],
   "source": [
    "%cd ~\n",
    "! wget https://staticsns.cdn.bcebos.com/amis/2022-4/1649731549425/train_datasets_document_detection_0411.zip\n",
    "! unzip -oq /home/aistudio/train_datasets_document_detection_0411.zip\n",
    "! rm -rf __MACOSX\n",
    "! rm -rf /home/aistudio/train_datasets_document_detection_0411.zip"
   ]
  },
  {
   "cell_type": "code",
   "execution_count": 43,
   "id": "cfcba571-274e-4235-ba63-f87490e49e66",
   "metadata": {
    "execution": {
     "iopub.execute_input": "2022-05-16T10:46:08.213939Z",
     "iopub.status.busy": "2022-05-16T10:46:08.213172Z",
     "iopub.status.idle": "2022-05-16T10:46:19.259058Z",
     "shell.execute_reply": "2022-05-16T10:46:19.258131Z",
     "shell.execute_reply.started": "2022-05-16T10:46:08.213904Z"
    },
    "scrolled": true,
    "tags": []
   },
   "outputs": [
    {
     "name": "stdout",
     "output_type": "stream",
     "text": [
      "/home/aistudio\n"
     ]
    }
   ],
   "source": [
    "# 将拉取的数据转化为PaddleSeg需要的形式\n",
    "%cd ~\n",
    "import cv2\n",
    "import os\n",
    "for item in os.listdir('train_datasets_document_detection_0411/segments'):\n",
    "    img_dir = 'train_datasets_document_detection_0411/segments/'+item\n",
    "    img = cv2.imread(img_dir)\n",
    "    img = img/255\n",
    "    cv2.imwrite(img_dir,img[:,:,1])"
   ]
  },
  {
   "cell_type": "code",
   "execution_count": null,
   "id": "5000a16e-0657-47fe-999e-2404f4ca2f6b",
   "metadata": {
    "scrolled": true,
    "tags": []
   },
   "outputs": [],
   "source": [
    "# clone PaddleSeg的项目\n",
    "# ! git clone https://github.com/PaddlePaddle/PaddleSeg.git\n",
    "! git clone https://gitee.com/PaddlePaddle/PaddleSeg.git"
   ]
  },
  {
   "cell_type": "code",
   "execution_count": null,
   "id": "85325fe5-b2fc-4a84-89ed-645308f9840a",
   "metadata": {
    "scrolled": true,
    "tags": []
   },
   "outputs": [],
   "source": [
    "! pip install paddleseg"
   ]
  },
  {
   "cell_type": "markdown",
   "id": "02f87946-2645-4057-8546-15f162119de1",
   "metadata": {},
   "source": [
    "## 测试paddleseg"
   ]
  },
  {
   "cell_type": "code",
   "execution_count": null,
   "id": "ebd9335f-9738-4201-b73a-457d99855497",
   "metadata": {
    "scrolled": true,
    "tags": []
   },
   "outputs": [],
   "source": [
    "# test\n",
    "%cd PaddleSeg/\n",
    "! python predict.py \\\n",
    "       --config configs/quick_start/pp_liteseg_optic_disc_512x512_1k.yml \\\n",
    "       --model_path https://paddleseg.bj.bcebos.com/dygraph/optic_disc/pp_liteseg_optic_disc_512x512_1k/model.pdparams\\\n",
    "       --image_path docs/images/optic_test_image.jpg \\\n",
    "       --save_dir output/result"
   ]
  },
  {
   "cell_type": "markdown",
   "id": "81fd9b64-e935-49fc-9007-02127019adf1",
   "metadata": {},
   "source": [
    "## 训练\n",
    "### 划分数据集"
   ]
  },
  {
   "cell_type": "code",
   "execution_count": null,
   "id": "1f65b8b0-1fc8-48c7-bc37-272676e9de00",
   "metadata": {
    "scrolled": true,
    "tags": []
   },
   "outputs": [],
   "source": [
    "%cd ~/PaddleSeg/\n",
    "! python tools/split_dataset_list.py /home/aistudio/ \\\n",
    "    train_datasets_document_detection_0411/images \\\n",
    "    train_datasets_document_detection_0411/segments"
   ]
  },
  {
   "cell_type": "markdown",
   "id": "0829d945-94f8-4d17-80d2-2eca39ee6d8b",
   "metadata": {},
   "source": [
    "### 训练\n",
    "\n",
    "进行配置，文件路径为 'configs/quick_start/my_model2.yml',内容如下所示：\n",
    "\n",
    "```\n",
    "batch_size: 16  #设定batch_size的值即为迭代一次送入网络的图片数量，一般显卡显存越大，batch_size的值可以越大\n",
    "iters: 120000    #模型迭代的次数\n",
    "\n",
    "train_dataset:  #训练数据设置\n",
    "  type: Dataset #数据集名字\n",
    "  dataset_root: /home/aistudio/ #数据集路径\n",
    "  train_path: /home/aistudio/train.txt  #数据集中用于训练的标识文件\n",
    "  num_classes: 2  #指定目标的类别个数（背景也算为一类）\n",
    "  mode: train #表示用于训练\n",
    "  transforms: #数据预处理/增强的方式\n",
    "    - type: RandomHorizontalFlip  #采用水平反转的方式进行数据增强\n",
    "    - type: RandomDistort #亮度、对比度、饱和度随机变动\n",
    "      brightness_range: 0.5\n",
    "      contrast_range: 0.5\n",
    "      saturation_range: 0.5\n",
    "    - type: Resize\n",
    "      target_size: [512, 512]\n",
    "    - type: Normalize\n",
    "\n",
    "val_dataset:  #验证数据设置\n",
    "  type: Dataset #数据集名字\n",
    "  dataset_root: /home/aistudio/ #数据集路径\n",
    "  val_path: /home/aistudio/val.txt  #数据集中用于验证的标识文件\n",
    "  num_classes: 2  #指定目标的类别个数（背景也算为一类）\n",
    "  mode: val #表示用于验证\n",
    "  transforms: #数据预处理/增强的方式\n",
    "    - type: Resize\n",
    "      target_size: [512, 512]\n",
    "    - type: Normalize\n",
    "\n",
    "optimizer: #设定优化器的类型\n",
    "  type: sgd #采用SGD（Stochastic Gradient Descent）随机梯度下降方法为优化器\n",
    "  momentum: 0.5 #动量\n",
    "\n",
    "lr_scheduler: # 学习率的相关设置\n",
    "  type: PolynomialDecay # 一种学习率类型。共支持12种策略\n",
    "  learning_rate: 0.0005\n",
    "  power: 0.5\n",
    "  end_lr: 0\n",
    "\n",
    "loss:\n",
    "  types:\n",
    "    - type: DiceLoss\n",
    "    - type: DiceLoss\n",
    "  coef: [1, 0.4]\n",
    "\n",
    "model:\n",
    "  type: OCRNet\n",
    "  backbone:\n",
    "    type: HRNet_W18\n",
    "    pretrained: https://bj.bcebos.com/paddleseg/dygraph/hrnet_w18_ssld.tar.gz\n",
    "  backbone_indices: [0]\n",
    "```"
   ]
  },
  {
   "cell_type": "code",
   "execution_count": null,
   "id": "4b9bc40e-2937-4334-b6ee-3ced58bc50c8",
   "metadata": {
    "scrolled": true
   },
   "outputs": [],
   "source": [
    "import shutil\r\n",
    "shutil.copy('/home/aistudio/my_model2.yml','/home/aistudio/PaddleSeg/configs/quick_start/my_model2.yml')"
   ]
  },
  {
   "cell_type": "code",
   "execution_count": null,
   "id": "cd56068b-25cb-4fed-81e8-a3d0a6bafa0a",
   "metadata": {
    "scrolled": true,
    "tags": []
   },
   "outputs": [],
   "source": [
    "# 导出模型\n",
    "%cd ~/PaddleSeg/\n",
    "! export CUDA_VISIBLE_DEVICES=0\n",
    "! python train.py \\\n",
    "       --config configs/quick_start/my_model2.yml \\\n",
    "       --save_interval 10000 \\\n",
    "       --resume_model output/iter_100000 \\\n",
    "       --save_dir output"
   ]
  },
  {
   "cell_type": "code",
   "execution_count": null,
   "id": "f6380c35-9cee-4dfc-ab8c-754f1fcdc995",
   "metadata": {
    "scrolled": true,
    "tags": []
   },
   "outputs": [],
   "source": [
    "%cd ~/PaddleSeg/\n",
    "# 设置1张可用的卡\n",
    "! export CUDA_VISIBLE_DEVICES=0\n",
    "# windows下请执行以下命令\n",
    "# set CUDA_VISIBLE_DEVICES=0\n",
    "! python export.py \\\n",
    "       --config configs/quick_start/my_model.yml \\\n",
    "       --model_path output/iter_120000/model.pdparams \\\n",
    "       --save_dir output \\\n",
    "       --input_shape 1 3 512 512"
   ]
  },
  {
   "cell_type": "markdown",
   "id": "6fec46a3-ee33-4db9-affd-84ab466620b0",
   "metadata": {},
   "source": [
    "## 测试导出模型"
   ]
  },
  {
   "cell_type": "code",
   "execution_count": null,
   "id": "a6430b05-98d5-42c1-8559-4971451d179f",
   "metadata": {
    "scrolled": true,
    "tags": []
   },
   "outputs": [],
   "source": [
    "# 测试模型是否能正常读取\n",
    "%cd ~\n",
    "import paddle\n",
    "path = \"PaddleSeg/output/model\"\n",
    "loaded_layer = paddle.jit.load(path)\n",
    "# inference\n",
    "loaded_layer.eval()\n",
    "x = paddle.randn([1, 3, 512, 512], 'float32')\n",
    "pred = loaded_layer(x)"
   ]
  },
  {
   "cell_type": "code",
   "execution_count": 5,
   "id": "f5eea294-50d3-4ece-9ebe-783148fbf7e0",
   "metadata": {
    "execution": {
     "iopub.execute_input": "2022-05-16T23:12:37.472610Z",
     "iopub.status.busy": "2022-05-16T23:12:37.471607Z",
     "iopub.status.idle": "2022-05-16T23:12:37.491070Z",
     "shell.execute_reply": "2022-05-16T23:12:37.490485Z",
     "shell.execute_reply.started": "2022-05-16T23:12:37.472552Z"
    },
    "scrolled": true,
    "tags": []
   },
   "outputs": [],
   "source": [
    "# 测试模型是否能正常预测，预测内容写入test.jpg\n",
    "\n",
    "import cv2\n",
    "\n",
    "img_dir = 'train_datasets_document_detection_0411/images/image_00001.jpg'\n",
    "img = cv2.imread(img_dir)\n",
    "\n",
    "mean = [127.5, 127.5, 127.5]\n",
    "std = [127.5, 127.5, 127.5]\n",
    "\n",
    "img = paddle.vision.transforms.resize(img, (512, 512))\n",
    "img = paddle.vision.transforms.normalize(img, mean=mean, std=std, data_format='HWC')\n",
    "\n",
    "img = img.transpose([2,0,1])\n",
    "\n",
    "pred = loaded_layer(paddle.to_tensor(img).reshape([1,3,512,512]))\n",
    "pre = (pred.astype('float32').numpy()*255).transpose([1,2,0])\n",
    "cv2.imwrite('test.jpg', pre)"
   ]
  },
  {
   "cell_type": "markdown",
   "id": "22f2a6a1-9b8e-4203-96a2-0ec1d51d58b6",
   "metadata": {},
   "source": [
    "## 打包"
   ]
  },
  {
   "cell_type": "code",
   "execution_count": 39,
   "id": "97e58f92-0d66-4b6d-a8f5-f6bfa350c280",
   "metadata": {
    "execution": {
     "iopub.execute_input": "2022-05-18T23:05:29.913443Z",
     "iopub.status.busy": "2022-05-18T23:05:29.912897Z",
     "iopub.status.idle": "2022-05-18T23:05:30.914420Z",
     "shell.execute_reply": "2022-05-18T23:05:30.913489Z",
     "shell.execute_reply.started": "2022-05-18T23:05:29.913398Z"
    },
    "scrolled": true,
    "tags": []
   },
   "outputs": [
    {
     "name": "stdout",
     "output_type": "stream",
     "text": [
      "/home/aistudio\n"
     ]
    },
    {
     "data": {
      "text/plain": [
       "'submit/model.pdmodel'"
      ]
     },
     "execution_count": 39,
     "metadata": {},
     "output_type": "execute_result"
    }
   ],
   "source": [
    "%cd ~\n",
    "import shutil\n",
    "! rm -rf submit\n",
    "! mkdir submit\n",
    "shutil.copy('predict.py','submit/predict.py')\n",
    "shutil.copy('PaddleSeg/output/deploy.yaml','submit/deploy.yaml')\n",
    "shutil.copy('PaddleSeg/output/model.pdiparams','submit/model.pdiparams')\n",
    "shutil.copy('PaddleSeg/output/model.pdiparams.info','submit/model.pdiparams.info')\n",
    "shutil.copy('PaddleSeg/output/model.pdmodel','submit/model.pdmodel')"
   ]
  },
  {
   "cell_type": "code",
   "execution_count": null,
   "id": "56f65bab-5036-49d1-8aea-0030da1c81a4",
   "metadata": {
    "scrolled": true,
    "tags": []
   },
   "outputs": [],
   "source": [
    "# 压缩需要提交的内容，需要提交的文件位于~/submit/\n",
    "\n",
    "%cd ~/submit/\n",
    "! rm -rf submit.zip\n",
    "! zip submit.zip *"
   ]
  },
  {
   "cell_type": "markdown",
   "id": "f503db9a-c1f5-4f81-9b1d-9fb2afb6edb3",
   "metadata": {},
   "source": [
    "## 测试\n",
    "想要看结果可以直接运行predict.py，需要更替测试集可以在官网下载对应的test数据，并且替换下面cell中的 '/home/aistudio/train_datasets_document_detection_0411/images' 为对应测试图片路径"
   ]
  },
  {
   "cell_type": "code",
   "execution_count": null,
   "id": "8ab22a4e-5ce9-4663-a5bb-01f60ee5a1b0",
   "metadata": {
    "scrolled": true,
    "tags": []
   },
   "outputs": [],
   "source": [
    "%cd ~/submit/\n",
    "! python predict.py /home/aistudio/train_datasets_document_detection_0411/images /home/aistudio/result"
   ]
  }
 ],
 "metadata": {
  "kernelspec": {
   "display_name": "Python 3",
   "language": "python",
   "name": "py35-paddle1.2.0"
  },
  "language_info": {
   "codemirror_mode": {
    "name": "ipython",
    "version": 3
   },
   "file_extension": ".py",
   "mimetype": "text/x-python",
   "name": "python",
   "nbconvert_exporter": "python",
   "pygments_lexer": "ipython3",
   "version": "3.7.4"
  }
 },
 "nbformat": 4,
 "nbformat_minor": 5
}
